{
 "cells": [
  {
   "cell_type": "markdown",
   "id": "0aa2ee85",
   "metadata": {
    "papermill": {
     "duration": 0.007025,
     "end_time": "2025-04-13T17:20:09.508449",
     "exception": false,
     "start_time": "2025-04-13T17:20:09.501424",
     "status": "completed"
    },
    "tags": []
   },
   "source": [
    "In this notebook, we will create a Document Q&A system for the publicly available starter [rule book](https://www.chaosium.com/content/FreePDFs/CoC/CHA23131%20Call%20of%20Cthulhu%207th%20Edition%20Quick-Start%20Rules.pdf?srsltid=AfmBOooV65qRFBnJ-pYV7s86zOziehQukLg41ZcY5zmsB6gP2Jt-PCS1) for the Call of Cthulhu RPG. The goal is to answer basic questions about the game, targeting new players."
   ]
  },
  {
   "cell_type": "markdown",
   "id": "b0a97bc8",
   "metadata": {
    "papermill": {
     "duration": 0.005992,
     "end_time": "2025-04-13T17:20:09.520942",
     "exception": false,
     "start_time": "2025-04-13T17:20:09.514950",
     "status": "completed"
    },
    "tags": []
   },
   "source": [
    "First, let's install ChromaDB and the Gemini API Python SDK. This might spit out some errors."
   ]
  },
  {
   "cell_type": "code",
   "execution_count": 1,
   "id": "6ea7ce7f",
   "metadata": {
    "execution": {
     "iopub.execute_input": "2025-04-13T17:20:09.535175Z",
     "iopub.status.busy": "2025-04-13T17:20:09.534657Z",
     "iopub.status.idle": "2025-04-13T17:20:54.489097Z",
     "shell.execute_reply": "2025-04-13T17:20:54.487672Z"
    },
    "papermill": {
     "duration": 44.964018,
     "end_time": "2025-04-13T17:20:54.491188",
     "exception": false,
     "start_time": "2025-04-13T17:20:09.527170",
     "status": "completed"
    },
    "tags": []
   },
   "outputs": [
    {
     "name": "stdout",
     "output_type": "stream",
     "text": [
      "\u001b[33mWARNING: Skipping kfp as it is not installed.\u001b[0m\u001b[33m\r\n",
      "\u001b[2K     \u001b[90m━━━━━━━━━━━━━━━━━━━━━━━━━━━━━━━━━━━━━━━━\u001b[0m \u001b[32m67.3/67.3 kB\u001b[0m \u001b[31m3.2 MB/s\u001b[0m eta \u001b[36m0:00:00\u001b[0m\r\n",
      "\u001b[?25h  Installing build dependencies ... \u001b[?25l\u001b[?25hdone\r\n",
      "  Getting requirements to build wheel ... \u001b[?25l\u001b[?25hdone\r\n",
      "  Preparing metadata (pyproject.toml) ... \u001b[?25l\u001b[?25hdone\r\n",
      "\u001b[2K   \u001b[90m━━━━━━━━━━━━━━━━━━━━━━━━━━━━━━━━━━━━━━━━\u001b[0m \u001b[32m144.7/144.7 kB\u001b[0m \u001b[31m9.1 MB/s\u001b[0m eta \u001b[36m0:00:00\u001b[0m\r\n",
      "\u001b[2K   \u001b[90m━━━━━━━━━━━━━━━━━━━━━━━━━━━━━━━━━━━━━━━━\u001b[0m \u001b[32m611.1/611.1 kB\u001b[0m \u001b[31m28.1 MB/s\u001b[0m eta \u001b[36m0:00:00\u001b[0m\r\n",
      "\u001b[2K   \u001b[90m━━━━━━━━━━━━━━━━━━━━━━━━━━━━━━━━━━━━━━━━\u001b[0m \u001b[32m2.4/2.4 MB\u001b[0m \u001b[31m62.3 MB/s\u001b[0m eta \u001b[36m0:00:00\u001b[0m\r\n",
      "\u001b[2K   \u001b[90m━━━━━━━━━━━━━━━━━━━━━━━━━━━━━━━━━━━━━━━━\u001b[0m \u001b[32m100.9/100.9 kB\u001b[0m \u001b[31m5.6 MB/s\u001b[0m eta \u001b[36m0:00:00\u001b[0m\r\n",
      "\u001b[2K   \u001b[90m━━━━━━━━━━━━━━━━━━━━━━━━━━━━━━━━━━━━━━━━\u001b[0m \u001b[32m284.2/284.2 kB\u001b[0m \u001b[31m16.0 MB/s\u001b[0m eta \u001b[36m0:00:00\u001b[0m\r\n",
      "\u001b[2K   \u001b[90m━━━━━━━━━━━━━━━━━━━━━━━━━━━━━━━━━━━━━━━━\u001b[0m \u001b[32m95.2/95.2 kB\u001b[0m \u001b[31m5.6 MB/s\u001b[0m eta \u001b[36m0:00:00\u001b[0m\r\n",
      "\u001b[2K   \u001b[90m━━━━━━━━━━━━━━━━━━━━━━━━━━━━━━━━━━━━━━━━\u001b[0m \u001b[32m2.0/2.0 MB\u001b[0m \u001b[31m59.6 MB/s\u001b[0m eta \u001b[36m0:00:00\u001b[0m\r\n",
      "\u001b[2K   \u001b[90m━━━━━━━━━━━━━━━━━━━━━━━━━━━━━━━━━━━━━━━━\u001b[0m \u001b[32m99.2/99.2 kB\u001b[0m \u001b[31m5.4 MB/s\u001b[0m eta \u001b[36m0:00:00\u001b[0m\r\n",
      "\u001b[2K   \u001b[90m━━━━━━━━━━━━━━━━━━━━━━━━━━━━━━━━━━━━━━━━\u001b[0m \u001b[32m16.0/16.0 MB\u001b[0m \u001b[31m86.2 MB/s\u001b[0m eta \u001b[36m0:00:00\u001b[0m\r\n",
      "\u001b[2K   \u001b[90m━━━━━━━━━━━━━━━━━━━━━━━━━━━━━━━━━━━━━━━━\u001b[0m \u001b[32m55.9/55.9 kB\u001b[0m \u001b[31m2.0 MB/s\u001b[0m eta \u001b[36m0:00:00\u001b[0m\r\n",
      "\u001b[2K   \u001b[90m━━━━━━━━━━━━━━━━━━━━━━━━━━━━━━━━━━━━━━━━\u001b[0m \u001b[32m188.4/188.4 kB\u001b[0m \u001b[31m10.8 MB/s\u001b[0m eta \u001b[36m0:00:00\u001b[0m\r\n",
      "\u001b[2K   \u001b[90m━━━━━━━━━━━━━━━━━━━━━━━━━━━━━━━━━━━━━━━━\u001b[0m \u001b[32m65.3/65.3 kB\u001b[0m \u001b[31m3.2 MB/s\u001b[0m eta \u001b[36m0:00:00\u001b[0m\r\n",
      "\u001b[2K   \u001b[90m━━━━━━━━━━━━━━━━━━━━━━━━━━━━━━━━━━━━━━━━\u001b[0m \u001b[32m119.0/119.0 kB\u001b[0m \u001b[31m6.2 MB/s\u001b[0m eta \u001b[36m0:00:00\u001b[0m\r\n",
      "\u001b[2K   \u001b[90m━━━━━━━━━━━━━━━━━━━━━━━━━━━━━━━━━━━━━━━━\u001b[0m \u001b[32m85.7/85.7 kB\u001b[0m \u001b[31m4.7 MB/s\u001b[0m eta \u001b[36m0:00:00\u001b[0m\r\n",
      "\u001b[2K   \u001b[90m━━━━━━━━━━━━━━━━━━━━━━━━━━━━━━━━━━━━━━━━\u001b[0m \u001b[32m62.4/62.4 kB\u001b[0m \u001b[31m3.8 MB/s\u001b[0m eta \u001b[36m0:00:00\u001b[0m\r\n",
      "\u001b[2K   \u001b[90m━━━━━━━━━━━━━━━━━━━━━━━━━━━━━━━━━━━━━━━━\u001b[0m \u001b[32m442.1/442.1 kB\u001b[0m \u001b[31m23.0 MB/s\u001b[0m eta \u001b[36m0:00:00\u001b[0m\r\n",
      "\u001b[2K   \u001b[90m━━━━━━━━━━━━━━━━━━━━━━━━━━━━━━━━━━━━━━━━\u001b[0m \u001b[32m319.7/319.7 kB\u001b[0m \u001b[31m17.7 MB/s\u001b[0m eta \u001b[36m0:00:00\u001b[0m\r\n",
      "\u001b[2K   \u001b[90m━━━━━━━━━━━━━━━━━━━━━━━━━━━━━━━━━━━━━━━━\u001b[0m \u001b[32m72.0/72.0 kB\u001b[0m \u001b[31m4.1 MB/s\u001b[0m eta \u001b[36m0:00:00\u001b[0m\r\n",
      "\u001b[2K   \u001b[90m━━━━━━━━━━━━━━━━━━━━━━━━━━━━━━━━━━━━━━━━\u001b[0m \u001b[32m3.8/3.8 MB\u001b[0m \u001b[31m76.0 MB/s\u001b[0m eta \u001b[36m0:00:00\u001b[0m\r\n",
      "\u001b[2K   \u001b[90m━━━━━━━━━━━━━━━━━━━━━━━━━━━━━━━━━━━━━━━━\u001b[0m \u001b[32m454.9/454.9 kB\u001b[0m \u001b[31m22.1 MB/s\u001b[0m eta \u001b[36m0:00:00\u001b[0m\r\n",
      "\u001b[2K   \u001b[90m━━━━━━━━━━━━━━━━━━━━━━━━━━━━━━━━━━━━━━━━\u001b[0m \u001b[32m46.0/46.0 kB\u001b[0m \u001b[31m2.4 MB/s\u001b[0m eta \u001b[36m0:00:00\u001b[0m\r\n",
      "\u001b[2K   \u001b[90m━━━━━━━━━━━━━━━━━━━━━━━━━━━━━━━━━━━━━━━━\u001b[0m \u001b[32m86.8/86.8 kB\u001b[0m \u001b[31m4.5 MB/s\u001b[0m eta \u001b[36m0:00:00\u001b[0m\r\n",
      "\u001b[?25h  Building wheel for pypika (pyproject.toml) ... \u001b[?25l\u001b[?25hdone\r\n",
      "\u001b[31mERROR: pip's dependency resolver does not currently take into account all the packages that are installed. This behaviour is the source of the following dependency conflicts.\r\n",
      "google-api-core 1.34.1 requires protobuf!=3.20.0,!=3.20.1,!=4.21.0,!=4.21.1,!=4.21.2,!=4.21.3,!=4.21.4,!=4.21.5,<4.0.0dev,>=3.19.5, but you have protobuf 5.29.4 which is incompatible.\r\n",
      "google-cloud-bigtable 2.27.0 requires google-api-core[grpc]<3.0.0dev,>=2.16.0, but you have google-api-core 1.34.1 which is incompatible.\r\n",
      "google-cloud-translate 3.12.1 requires protobuf!=3.20.0,!=3.20.1,!=4.21.0,!=4.21.1,!=4.21.2,!=4.21.3,!=4.21.4,!=4.21.5,<5.0.0dev,>=3.19.5, but you have protobuf 5.29.4 which is incompatible.\r\n",
      "pandas-gbq 0.25.0 requires google-api-core<3.0.0dev,>=2.10.2, but you have google-api-core 1.34.1 which is incompatible.\r\n",
      "tensorflow 2.17.1 requires protobuf!=4.21.0,!=4.21.1,!=4.21.2,!=4.21.3,!=4.21.4,!=4.21.5,<5.0.0dev,>=3.20.3, but you have protobuf 5.29.4 which is incompatible.\r\n",
      "tensorflow-decision-forests 1.10.0 requires tensorflow==2.17.0, but you have tensorflow 2.17.1 which is incompatible.\r\n",
      "tensorflow-metadata 1.13.1 requires protobuf<5,>=3.20.3, but you have protobuf 5.29.4 which is incompatible.\u001b[0m\u001b[31m\r\n",
      "\u001b[0m"
     ]
    }
   ],
   "source": [
    "!pip uninstall -qqy jupyterlab kfp  # Remove unused conflicting packages\n",
    "!pip install -qU \"google-genai==1.7.0\" \"chromadb==0.6.3\""
   ]
  },
  {
   "cell_type": "code",
   "execution_count": 2,
   "id": "0f9a7c2c",
   "metadata": {
    "execution": {
     "iopub.execute_input": "2025-04-13T17:20:54.509967Z",
     "iopub.status.busy": "2025-04-13T17:20:54.509564Z",
     "iopub.status.idle": "2025-04-13T17:20:55.861629Z",
     "shell.execute_reply": "2025-04-13T17:20:55.860440Z"
    },
    "papermill": {
     "duration": 1.363634,
     "end_time": "2025-04-13T17:20:55.863537",
     "exception": false,
     "start_time": "2025-04-13T17:20:54.499903",
     "status": "completed"
    },
    "tags": []
   },
   "outputs": [
    {
     "data": {
      "text/plain": [
       "'1.7.0'"
      ]
     },
     "execution_count": 2,
     "metadata": {},
     "output_type": "execute_result"
    }
   ],
   "source": [
    "from google import genai\n",
    "from google.genai import types\n",
    "\n",
    "from IPython.display import Markdown\n",
    "\n",
    "genai.__version__"
   ]
  },
  {
   "cell_type": "markdown",
   "id": "ea158f75",
   "metadata": {
    "papermill": {
     "duration": 0.00826,
     "end_time": "2025-04-13T17:20:55.880560",
     "exception": false,
     "start_time": "2025-04-13T17:20:55.872300",
     "status": "completed"
    },
    "tags": []
   },
   "source": [
    "**Set up your API key**\n",
    "\n",
    "To run the following cell, your API key must be stored it in a Kaggle secret named GOOGLE_API_KEY."
   ]
  },
  {
   "cell_type": "code",
   "execution_count": 3,
   "id": "06cd2c20",
   "metadata": {
    "execution": {
     "iopub.execute_input": "2025-04-13T17:20:55.898998Z",
     "iopub.status.busy": "2025-04-13T17:20:55.898473Z",
     "iopub.status.idle": "2025-04-13T17:20:56.089613Z",
     "shell.execute_reply": "2025-04-13T17:20:56.088700Z"
    },
    "papermill": {
     "duration": 0.202445,
     "end_time": "2025-04-13T17:20:56.091466",
     "exception": false,
     "start_time": "2025-04-13T17:20:55.889021",
     "status": "completed"
    },
    "tags": []
   },
   "outputs": [],
   "source": [
    "from kaggle_secrets import UserSecretsClient\n",
    "\n",
    "GOOGLE_API_KEY = UserSecretsClient().get_secret(\"GOOGLE_API_KEY\")"
   ]
  },
  {
   "cell_type": "markdown",
   "id": "afc18368",
   "metadata": {
    "papermill": {
     "duration": 0.008268,
     "end_time": "2025-04-13T17:20:56.108495",
     "exception": false,
     "start_time": "2025-04-13T17:20:56.100227",
     "status": "completed"
    },
    "tags": []
   },
   "source": [
    "Let's explore available models that support text embeddings."
   ]
  },
  {
   "cell_type": "code",
   "execution_count": 4,
   "id": "3055cbc4",
   "metadata": {
    "execution": {
     "iopub.execute_input": "2025-04-13T17:20:56.126793Z",
     "iopub.status.busy": "2025-04-13T17:20:56.126413Z",
     "iopub.status.idle": "2025-04-13T17:20:56.907996Z",
     "shell.execute_reply": "2025-04-13T17:20:56.906872Z"
    },
    "papermill": {
     "duration": 0.793029,
     "end_time": "2025-04-13T17:20:56.909996",
     "exception": false,
     "start_time": "2025-04-13T17:20:56.116967",
     "status": "completed"
    },
    "tags": []
   },
   "outputs": [
    {
     "name": "stdout",
     "output_type": "stream",
     "text": [
      "models/embedding-001\n",
      "models/text-embedding-004\n",
      "models/gemini-embedding-exp-03-07\n",
      "models/gemini-embedding-exp\n"
     ]
    }
   ],
   "source": [
    "client = genai.Client(api_key=GOOGLE_API_KEY)\n",
    "\n",
    "for m in client.models.list():\n",
    "    if \"embedContent\" in m.supported_actions:\n",
    "        print(m.name)"
   ]
  },
  {
   "cell_type": "markdown",
   "id": "08af45ae",
   "metadata": {
    "papermill": {
     "duration": 0.008375,
     "end_time": "2025-04-13T17:20:56.927301",
     "exception": false,
     "start_time": "2025-04-13T17:20:56.918926",
     "status": "completed"
    },
    "tags": []
   },
   "source": [
    "We will be using text-embedding-004 as the most recent generally-available embedding model."
   ]
  },
  {
   "cell_type": "markdown",
   "id": "01fd09e7",
   "metadata": {
    "papermill": {
     "duration": 0.008409,
     "end_time": "2025-04-13T17:20:56.944547",
     "exception": false,
     "start_time": "2025-04-13T17:20:56.936138",
     "status": "completed"
    },
    "tags": []
   },
   "source": [
    "Let's add a script that reads the content of the PDF into the string using PyPDF2 library."
   ]
  },
  {
   "cell_type": "code",
   "execution_count": 5,
   "id": "6c8f78e4",
   "metadata": {
    "execution": {
     "iopub.execute_input": "2025-04-13T17:20:56.963072Z",
     "iopub.status.busy": "2025-04-13T17:20:56.962621Z",
     "iopub.status.idle": "2025-04-13T17:21:02.137493Z",
     "shell.execute_reply": "2025-04-13T17:21:02.135958Z"
    },
    "papermill": {
     "duration": 5.186253,
     "end_time": "2025-04-13T17:21:02.139450",
     "exception": false,
     "start_time": "2025-04-13T17:20:56.953197",
     "status": "completed"
    },
    "tags": []
   },
   "outputs": [
    {
     "name": "stdout",
     "output_type": "stream",
     "text": [
      "Collecting PyPDF2\r\n",
      "  Downloading pypdf2-3.0.1-py3-none-any.whl.metadata (6.8 kB)\r\n",
      "Downloading pypdf2-3.0.1-py3-none-any.whl (232 kB)\r\n",
      "\u001b[2K   \u001b[90m━━━━━━━━━━━━━━━━━━━━━━━━━━━━━━━━━━━━━━━━\u001b[0m \u001b[32m232.6/232.6 kB\u001b[0m \u001b[31m7.3 MB/s\u001b[0m eta \u001b[36m0:00:00\u001b[0m\r\n",
      "\u001b[?25hInstalling collected packages: PyPDF2\r\n",
      "Successfully installed PyPDF2-3.0.1\r\n",
      "Note: you may need to restart the kernel to use updated packages.\n"
     ]
    }
   ],
   "source": [
    "pip install PyPDF2"
   ]
  },
  {
   "cell_type": "code",
   "execution_count": 6,
   "id": "54a96c4a",
   "metadata": {
    "execution": {
     "iopub.execute_input": "2025-04-13T17:21:02.159290Z",
     "iopub.status.busy": "2025-04-13T17:21:02.158841Z",
     "iopub.status.idle": "2025-04-13T17:21:02.699023Z",
     "shell.execute_reply": "2025-04-13T17:21:02.697823Z"
    },
    "papermill": {
     "duration": 0.552293,
     "end_time": "2025-04-13T17:21:02.701007",
     "exception": false,
     "start_time": "2025-04-13T17:21:02.148714",
     "status": "completed"
    },
    "tags": []
   },
   "outputs": [],
   "source": [
    "import PyPDF2\n",
    "import requests\n",
    "from io import BytesIO\n",
    "\n",
    "def read_pdf_content_to_string(pdf_url):\n",
    "    \"\"\"\n",
    "    Reads the text content from a PDF file hosted at a URL and returns it as a string.\n",
    "\n",
    "    Args:\n",
    "        pdf_url (str): The URL of the PDF file.\n",
    "\n",
    "    Returns:\n",
    "        str: The text content of the PDF, or an empty string if an error occurs.\n",
    "    \"\"\"\n",
    "\n",
    "    text = \"\"\n",
    "    try:\n",
    "        response = requests.get(pdf_url)\n",
    "        response.raise_for_status()\n",
    "\n",
    "        with BytesIO(response.content) as pdf_file:\n",
    "            reader = PyPDF2.PdfReader(pdf_file)\n",
    "            for page in reader.pages:\n",
    "                text += page.extract_text() or \"\"\n",
    "\n",
    "    except requests.exceptions.RequestException as e:\n",
    "        print(f\"Error fetching PDF: {e}\")\n",
    "    except PyPDF2.errors.PdfReadError as e:\n",
    "        print(f\"Error reading PDF: {e}\")\n",
    "    except Exception as e:\n",
    "        print(f\"An unexpected error occurred: {e}\")\n",
    "\n",
    "    return text"
   ]
  },
  {
   "cell_type": "markdown",
   "id": "542a20a5",
   "metadata": {
    "papermill": {
     "duration": 0.008613,
     "end_time": "2025-04-13T17:21:02.719187",
     "exception": false,
     "start_time": "2025-04-13T17:21:02.710574",
     "status": "completed"
    },
    "tags": []
   },
   "source": [
    "Let's read the document and print the first 50 characters to get a glimpse of the content."
   ]
  },
  {
   "cell_type": "code",
   "execution_count": 7,
   "id": "88310253",
   "metadata": {
    "execution": {
     "iopub.execute_input": "2025-04-13T17:21:02.738475Z",
     "iopub.status.busy": "2025-04-13T17:21:02.738071Z",
     "iopub.status.idle": "2025-04-13T17:21:05.183028Z",
     "shell.execute_reply": "2025-04-13T17:21:05.181857Z"
    },
    "papermill": {
     "duration": 2.456679,
     "end_time": "2025-04-13T17:21:05.184878",
     "exception": false,
     "start_time": "2025-04-13T17:21:02.728199",
     "status": "completed"
    },
    "tags": []
   },
   "outputs": [
    {
     "name": "stdout",
     "output_type": "stream",
     "text": [
      "113302\n",
      "--- First 50 Characters of PDF Content ---\n",
      "S a n dy Petersen, Mike Maso n , \n",
      "P\n",
      "a\n",
      "u\n",
      "l\n",
      " \n",
      "F\n",
      "r\n",
      "i\n",
      "\n",
      "--- End of First 50 Characters ---\n"
     ]
    }
   ],
   "source": [
    "pdf_url = \"https://www.chaosium.com/content/FreePDFs/CoC/CHA23131%20Call%20of%20Cthulhu%207th%20Edition%20Quick-Start%20Rules.pdf?srsltid=AfmBOooV65qRFBnJ-pYV7s86zOziehQukLg41ZcY5zmsB6gP2Jt-PCS1\"\n",
    "pdf_content = read_pdf_content_to_string(pdf_url)\n",
    "\n",
    "if pdf_content:\n",
    "    # \n",
    "    print(len(pdf_content))\n",
    "    print(\"--- First 50 Characters of PDF Content ---\")\n",
    "    print(pdf_content[:50])\n",
    "    print(\"--- End of First 50 Characters ---\")\n",
    "else:\n",
    "    print(\"Could not retrieve or read PDF content.\")"
   ]
  },
  {
   "cell_type": "markdown",
   "id": "f97bab48",
   "metadata": {
    "papermill": {
     "duration": 0.008633,
     "end_time": "2025-04-13T17:21:05.202801",
     "exception": false,
     "start_time": "2025-04-13T17:21:05.194168",
     "status": "completed"
    },
    "tags": []
   },
   "source": [
    "Let's create the embedding database with ChromaDB. We are implementing a retrieval system, so the `task_type` for generating the document embeddings is `retrieval_document`. Later, we will use `retrieval_query` for the query embeddings. "
   ]
  },
  {
   "cell_type": "code",
   "execution_count": 8,
   "id": "004bb20a",
   "metadata": {
    "execution": {
     "iopub.execute_input": "2025-04-13T17:21:05.222163Z",
     "iopub.status.busy": "2025-04-13T17:21:05.221801Z",
     "iopub.status.idle": "2025-04-13T17:21:06.155974Z",
     "shell.execute_reply": "2025-04-13T17:21:06.154902Z"
    },
    "papermill": {
     "duration": 0.946263,
     "end_time": "2025-04-13T17:21:06.158128",
     "exception": false,
     "start_time": "2025-04-13T17:21:05.211865",
     "status": "completed"
    },
    "tags": []
   },
   "outputs": [],
   "source": [
    "from chromadb import Documents, EmbeddingFunction, Embeddings\n",
    "from google.api_core import retry\n",
    "\n",
    "from google.genai import types\n",
    "\n",
    "\n",
    "# Define a helper to retry when per-minute quota is reached.\n",
    "is_retriable = lambda e: (isinstance(e, genai.errors.APIError) and e.code in {429, 503})\n",
    "\n",
    "\n",
    "class GeminiEmbeddingFunction(EmbeddingFunction):\n",
    "    # Specify whether to generate embeddings for documents, or queries\n",
    "    document_mode = True\n",
    "\n",
    "    @retry.Retry(predicate=is_retriable)\n",
    "    def __call__(self, input: Documents) -> Embeddings:\n",
    "        if self.document_mode:\n",
    "            embedding_task = \"retrieval_document\"\n",
    "        else:\n",
    "            embedding_task = \"retrieval_query\"\n",
    "\n",
    "        response = client.models.embed_content(\n",
    "            model=\"models/text-embedding-004\",\n",
    "            contents=input,\n",
    "            config=types.EmbedContentConfig(\n",
    "                task_type=embedding_task,\n",
    "            ),\n",
    "        )\n",
    "        return [e.values for e in response.embeddings]"
   ]
  },
  {
   "cell_type": "markdown",
   "id": "55fb410d",
   "metadata": {
    "papermill": {
     "duration": 0.00865,
     "end_time": "2025-04-13T17:21:06.176141",
     "exception": false,
     "start_time": "2025-04-13T17:21:06.167491",
     "status": "completed"
    },
    "tags": []
   },
   "source": [
    "Now let's create a Chroma database client that uses the GeminiEmbeddingFunction and populate the database with the Call Of Cthulhu documents we defined above. For better result, we will split the document into 20 sub documents. We could also explore splitting it py pages or sections."
   ]
  },
  {
   "cell_type": "code",
   "execution_count": 9,
   "id": "1a175b04",
   "metadata": {
    "execution": {
     "iopub.execute_input": "2025-04-13T17:21:06.195582Z",
     "iopub.status.busy": "2025-04-13T17:21:06.194934Z",
     "iopub.status.idle": "2025-04-13T17:21:12.993083Z",
     "shell.execute_reply": "2025-04-13T17:21:12.992005Z"
    },
    "papermill": {
     "duration": 6.80982,
     "end_time": "2025-04-13T17:21:12.994965",
     "exception": false,
     "start_time": "2025-04-13T17:21:06.185145",
     "status": "completed"
    },
    "tags": []
   },
   "outputs": [],
   "source": [
    "import chromadb\n",
    "\n",
    "DB_NAME = \"call-of-cthulhu\"\n",
    "\n",
    "embed_fn = GeminiEmbeddingFunction()\n",
    "embed_fn.document_mode = True\n",
    "\n",
    "chroma_client = chromadb.Client()\n",
    "db = chroma_client.get_or_create_collection(name=DB_NAME, embedding_function=embed_fn)\n",
    "\n",
    "n_chunks = 20\n",
    "chunk = len(pdf_content) / n_chunks\n",
    "for i in range(n_chunks):\n",
    "    start = int(i*chunk)\n",
    "    finish = int((i+1)*chunk)\n",
    "    db.add(documents=[pdf_content[start:finish]], ids=[str(i)])"
   ]
  },
  {
   "cell_type": "markdown",
   "id": "e3d6db8b",
   "metadata": {
    "papermill": {
     "duration": 0.008645,
     "end_time": "2025-04-13T17:21:13.012846",
     "exception": false,
     "start_time": "2025-04-13T17:21:13.004201",
     "status": "completed"
    },
    "tags": []
   },
   "source": [
    "Confirm that the data was inserted by looking at the database - we have inserted 20 documents."
   ]
  },
  {
   "cell_type": "code",
   "execution_count": 10,
   "id": "95fa9802",
   "metadata": {
    "execution": {
     "iopub.execute_input": "2025-04-13T17:21:13.032855Z",
     "iopub.status.busy": "2025-04-13T17:21:13.032480Z",
     "iopub.status.idle": "2025-04-13T17:21:13.041526Z",
     "shell.execute_reply": "2025-04-13T17:21:13.040377Z"
    },
    "papermill": {
     "duration": 0.020957,
     "end_time": "2025-04-13T17:21:13.043393",
     "exception": false,
     "start_time": "2025-04-13T17:21:13.022436",
     "status": "completed"
    },
    "tags": []
   },
   "outputs": [
    {
     "data": {
      "text/plain": [
       "20"
      ]
     },
     "execution_count": 10,
     "metadata": {},
     "output_type": "execute_result"
    }
   ],
   "source": [
    "db.count()"
   ]
  },
  {
   "cell_type": "markdown",
   "id": "4eb52992",
   "metadata": {
    "papermill": {
     "duration": 0.008741,
     "end_time": "2025-04-13T17:21:13.062027",
     "exception": false,
     "start_time": "2025-04-13T17:21:13.053286",
     "status": "completed"
    },
    "tags": []
   },
   "source": [
    "### Retrievals\n",
    "\n",
    "Let's switch to query mode to retrieve answers for the questions from the stored documents. First, let's find out which documents has the answer. As the information is scattered between multiple sections, we can fetch 3 documents."
   ]
  },
  {
   "cell_type": "code",
   "execution_count": 11,
   "id": "822b8711",
   "metadata": {
    "execution": {
     "iopub.execute_input": "2025-04-13T17:21:13.081493Z",
     "iopub.status.busy": "2025-04-13T17:21:13.081112Z",
     "iopub.status.idle": "2025-04-13T17:21:13.377513Z",
     "shell.execute_reply": "2025-04-13T17:21:13.376304Z"
    },
    "papermill": {
     "duration": 0.308228,
     "end_time": "2025-04-13T17:21:13.379327",
     "exception": false,
     "start_time": "2025-04-13T17:21:13.071099",
     "status": "completed"
    },
    "tags": []
   },
   "outputs": [
    {
     "data": {
      "text/plain": [
       "3"
      ]
     },
     "execution_count": 11,
     "metadata": {},
     "output_type": "execute_result"
    }
   ],
   "source": [
    "# Switch to query mode when generating embeddings.\n",
    "embed_fn.document_mode = False\n",
    "\n",
    "# Search the Chroma DB using the specified query.\n",
    "query = \"What is STR?\"\n",
    "\n",
    "result = db.query(query_texts=[query], n_results=3)\n",
    "[all_passages] = result[\"documents\"]\n",
    "len(all_passages)"
   ]
  },
  {
   "cell_type": "markdown",
   "id": "738a7e8e",
   "metadata": {
    "papermill": {
     "duration": 0.008849,
     "end_time": "2025-04-13T17:21:13.398460",
     "exception": false,
     "start_time": "2025-04-13T17:21:13.389611",
     "status": "completed"
    },
    "tags": []
   },
   "source": [
    "Now let's assemble a generation prompt to have the Gemini API generate a final answer using the retrieved document."
   ]
  },
  {
   "cell_type": "code",
   "execution_count": 12,
   "id": "7f7f103e",
   "metadata": {
    "execution": {
     "iopub.execute_input": "2025-04-13T17:21:13.418349Z",
     "iopub.status.busy": "2025-04-13T17:21:13.417937Z",
     "iopub.status.idle": "2025-04-13T17:21:13.424242Z",
     "shell.execute_reply": "2025-04-13T17:21:13.423042Z"
    },
    "papermill": {
     "duration": 0.018374,
     "end_time": "2025-04-13T17:21:13.426186",
     "exception": false,
     "start_time": "2025-04-13T17:21:13.407812",
     "status": "completed"
    },
    "tags": []
   },
   "outputs": [
    {
     "name": "stdout",
     "output_type": "stream",
     "text": [
      "You are a helpful and informative bot that answers questions using text from the reference passage included below.\n",
      "Be sure to respond in a complete sentence, being comprehensive, including all relevant background information.\n",
      "However, you are talking to an audience new to the game, so be sure to provide examples\n",
      "and strike a friendly and conversational tone. If the passage is irrelevant to the answer, you may ignore it.\n",
      "Use only information provided in the passage.\n",
      "\n",
      "QUESTION: What is STR?\n"
     ]
    }
   ],
   "source": [
    "query = \"What is STR?\"\n",
    "query_oneline = query.replace(\"\\n\", \" \")\n",
    "\n",
    "prompt = f\"\"\"You are a helpful and informative bot that answers questions using text from the reference passage included below.\n",
    "Be sure to respond in a complete sentence, being comprehensive, including all relevant background information.\n",
    "However, you are talking to an audience new to the game, so be sure to provide examples\n",
    "and strike a friendly and conversational tone. If the passage is irrelevant to the answer, you may ignore it.\n",
    "Use only information provided in the passage.\n",
    "\n",
    "QUESTION: {query_oneline}\"\"\"\n",
    "print(prompt)\n",
    "\n",
    "# Add the retrieved documents to the prompt.\n",
    "for passage in all_passages:\n",
    "    passage_oneline = passage.replace(\"\\n\", \" \")\n",
    "    prompt += f\"PASSAGE: {passage_oneline}\\n\"\n",
    "\n",
    "#print(prompt)"
   ]
  },
  {
   "cell_type": "markdown",
   "id": "828438e6",
   "metadata": {
    "papermill": {
     "duration": 0.009068,
     "end_time": "2025-04-13T17:21:13.444893",
     "exception": false,
     "start_time": "2025-04-13T17:21:13.435825",
     "status": "completed"
    },
    "tags": []
   },
   "source": [
    "Now let's use the generate_content method to to generate an answer to the question."
   ]
  },
  {
   "cell_type": "code",
   "execution_count": 13,
   "id": "99b0ef14",
   "metadata": {
    "execution": {
     "iopub.execute_input": "2025-04-13T17:21:13.464820Z",
     "iopub.status.busy": "2025-04-13T17:21:13.464430Z",
     "iopub.status.idle": "2025-04-13T17:21:14.240281Z",
     "shell.execute_reply": "2025-04-13T17:21:14.239152Z"
    },
    "papermill": {
     "duration": 0.787842,
     "end_time": "2025-04-13T17:21:14.242034",
     "exception": false,
     "start_time": "2025-04-13T17:21:13.454192",
     "status": "completed"
    },
    "tags": []
   },
   "outputs": [
    {
     "data": {
      "text/plain": [
       "'STR is short for Strength, and it represents the raw physical power that your investigator can bring to bear in the game. As an example, an investigator with a high STR might be better at lifting heavy objects or winning a physical fight.'"
      ]
     },
     "execution_count": 13,
     "metadata": {},
     "output_type": "execute_result"
    }
   ],
   "source": [
    "answer = client.models.generate_content(\n",
    "    model=\"gemini-2.0-flash\",\n",
    "    contents=prompt)\n",
    "\n",
    "answer.text"
   ]
  },
  {
   "cell_type": "markdown",
   "id": "faca42be",
   "metadata": {
    "papermill": {
     "duration": 0.008937,
     "end_time": "2025-04-13T17:21:14.260586",
     "exception": false,
     "start_time": "2025-04-13T17:21:14.251649",
     "status": "completed"
    },
    "tags": []
   },
   "source": [
    "Let's assemble a function that repies to the question asked using the techniques described above:"
   ]
  },
  {
   "cell_type": "code",
   "execution_count": 14,
   "id": "c1e3607f",
   "metadata": {
    "execution": {
     "iopub.execute_input": "2025-04-13T17:21:14.280761Z",
     "iopub.status.busy": "2025-04-13T17:21:14.280387Z",
     "iopub.status.idle": "2025-04-13T17:21:14.286965Z",
     "shell.execute_reply": "2025-04-13T17:21:14.285955Z"
    },
    "papermill": {
     "duration": 0.018562,
     "end_time": "2025-04-13T17:21:14.288641",
     "exception": false,
     "start_time": "2025-04-13T17:21:14.270079",
     "status": "completed"
    },
    "tags": []
   },
   "outputs": [],
   "source": [
    "def get_prompt(question: str) -> str:\n",
    "    query_oneline = question.replace(\"\\n\", \" \")\n",
    "    \n",
    "    return f\"\"\"You are a helpful and informative bot that answers questions using text from the reference passage included below.\n",
    "    Be sure to respond in a complete sentence, being comprehensive, including all relevant background information.\n",
    "    However, you are talking to an audience new to the game, so be sure to provide examples\n",
    "    and strike a friendly and conversational tone. If the passage is irrelevant to the answer, you may ignore it.\n",
    "    Use only information provided in the passage.\n",
    "    \n",
    "    QUESTION: {query_oneline}\"\"\"\n",
    "\n",
    "def get_passages(question: str) -> list[str]:\n",
    "    result = db.query(query_texts=[query], n_results=3)\n",
    "    [all_passages] = result[\"documents\"]\n",
    "\n",
    "def reply(question: str) -> str:\n",
    "    passages = get_passages(question)\n",
    "    prompt = get_prompt(question)\n",
    "    for passage in all_passages:\n",
    "        passage_oneline = passage.replace(\"\\n\", \" \")\n",
    "        prompt += f\"PASSAGE: {passage_oneline}\\n\"\n",
    "\n",
    "    answer = client.models.generate_content(\n",
    "        model=\"gemini-2.0-flash\",\n",
    "        contents=prompt)\n",
    "    return answer.text"
   ]
  },
  {
   "cell_type": "markdown",
   "id": "25b0a550",
   "metadata": {
    "papermill": {
     "duration": 0.008992,
     "end_time": "2025-04-13T17:21:14.307235",
     "exception": false,
     "start_time": "2025-04-13T17:21:14.298243",
     "status": "completed"
    },
    "tags": []
   },
   "source": [
    "Let's try a few examples:"
   ]
  },
  {
   "cell_type": "code",
   "execution_count": 15,
   "id": "d1350283",
   "metadata": {
    "execution": {
     "iopub.execute_input": "2025-04-13T17:21:14.327467Z",
     "iopub.status.busy": "2025-04-13T17:21:14.327083Z",
     "iopub.status.idle": "2025-04-13T17:21:15.553682Z",
     "shell.execute_reply": "2025-04-13T17:21:15.552569Z"
    },
    "papermill": {
     "duration": 1.238886,
     "end_time": "2025-04-13T17:21:15.555484",
     "exception": false,
     "start_time": "2025-04-13T17:21:14.316598",
     "status": "completed"
    },
    "tags": []
   },
   "outputs": [
    {
     "data": {
      "text/markdown": [
       "STR, which is short for Strength, is one of the eight characteristics used to measure an investigator's attributes in the game Call of Cthulhu. In particular, STR measures the raw physical power your investigator can bring to bear. For example, if your investigator has STR 60, that means Strength 60%."
      ],
      "text/plain": [
       "<IPython.core.display.Markdown object>"
      ]
     },
     "execution_count": 15,
     "metadata": {},
     "output_type": "execute_result"
    }
   ],
   "source": [
    "Markdown(reply(\"What is STR?\"))"
   ]
  },
  {
   "cell_type": "code",
   "execution_count": 16,
   "id": "6bfa0031",
   "metadata": {
    "execution": {
     "iopub.execute_input": "2025-04-13T17:21:15.576025Z",
     "iopub.status.busy": "2025-04-13T17:21:15.575629Z",
     "iopub.status.idle": "2025-04-13T17:21:16.877579Z",
     "shell.execute_reply": "2025-04-13T17:21:16.876464Z"
    },
    "papermill": {
     "duration": 1.314116,
     "end_time": "2025-04-13T17:21:16.879391",
     "exception": false,
     "start_time": "2025-04-13T17:21:15.565275",
     "status": "completed"
    },
    "tags": []
   },
   "outputs": [
    {
     "data": {
      "text/markdown": [
       "Yes, an investigator can possess weapons, and this is noted in the weapons section of their investigator sheet. The investigator sheet notes each weapon's Regular, Hard, and Extreme skill values, the damage it can inflict (usually a dice roll), and the number of attacks per round it can be used. For firearms, it also includes the range, ammunition, and its malfunction number.\n"
      ],
      "text/plain": [
       "<IPython.core.display.Markdown object>"
      ]
     },
     "execution_count": 16,
     "metadata": {},
     "output_type": "execute_result"
    }
   ],
   "source": [
    "Markdown(reply(\"Can an investigator posses a weapon?\"))"
   ]
  },
  {
   "cell_type": "code",
   "execution_count": 17,
   "id": "7e472dec",
   "metadata": {
    "execution": {
     "iopub.execute_input": "2025-04-13T17:21:16.900399Z",
     "iopub.status.busy": "2025-04-13T17:21:16.900016Z",
     "iopub.status.idle": "2025-04-13T17:21:18.420412Z",
     "shell.execute_reply": "2025-04-13T17:21:18.419021Z"
    },
    "papermill": {
     "duration": 1.533859,
     "end_time": "2025-04-13T17:21:18.423234",
     "exception": false,
     "start_time": "2025-04-13T17:21:16.889375",
     "status": "completed"
    },
    "tags": []
   },
   "outputs": [
    {
     "data": {
      "text/markdown": [
       "To get started with the Call of Cthulhu roleplaying game, you'll need a few things. You'll definitely want the Quick-Start Rules guide, which introduces you to the game. In addition, you'll need a set of polyhedral dice, or a dice-rolling app if you're playing online, notepaper, pencils, at least one other person to play with, and a quiet place to play for two to four hours. If you're playing online, you can use an online dice roller and share investigator sheets as PDFs. You'll also need a video conferencing platform so everyone can see and hear each other."
      ],
      "text/plain": [
       "<IPython.core.display.Markdown object>"
      ]
     },
     "execution_count": 17,
     "metadata": {},
     "output_type": "execute_result"
    }
   ],
   "source": [
    "Markdown(reply(\"What do I need to bring for the game?\"))"
   ]
  },
  {
   "cell_type": "code",
   "execution_count": 18,
   "id": "4110db53",
   "metadata": {
    "execution": {
     "iopub.execute_input": "2025-04-13T17:21:18.446995Z",
     "iopub.status.busy": "2025-04-13T17:21:18.446595Z",
     "iopub.status.idle": "2025-04-13T17:21:19.871333Z",
     "shell.execute_reply": "2025-04-13T17:21:19.870329Z"
    },
    "papermill": {
     "duration": 1.438515,
     "end_time": "2025-04-13T17:21:19.873105",
     "exception": false,
     "start_time": "2025-04-13T17:21:18.434590",
     "status": "completed"
    },
    "tags": []
   },
   "outputs": [
    {
     "data": {
      "text/markdown": [
       "Yes, there is magic in the game, and it is connected to Magic Points. Magic Points, or MP, are used to cast spells or produce some other magical effect. When a player uses magic points, they regenerate at a rate of one point per hour. If a character uses up all of their magic points, any further expenditure is taken from their hit points, which causes physical damage. For an example of how magic points are used, you can refer to Corbitt's Spells in The Haunting adventure.\n"
      ],
      "text/plain": [
       "<IPython.core.display.Markdown object>"
      ]
     },
     "execution_count": 18,
     "metadata": {},
     "output_type": "execute_result"
    }
   ],
   "source": [
    "Markdown(reply(\"Is there magic in the game?\"))"
   ]
  }
 ],
 "metadata": {
  "kaggle": {
   "accelerator": "none",
   "dataSources": [],
   "dockerImageVersionId": 30918,
   "isGpuEnabled": false,
   "isInternetEnabled": true,
   "language": "python",
   "sourceType": "notebook"
  },
  "kernelspec": {
   "display_name": "Python 3",
   "language": "python",
   "name": "python3"
  },
  "language_info": {
   "codemirror_mode": {
    "name": "ipython",
    "version": 3
   },
   "file_extension": ".py",
   "mimetype": "text/x-python",
   "name": "python",
   "nbconvert_exporter": "python",
   "pygments_lexer": "ipython3",
   "version": "3.10.12"
  },
  "papermill": {
   "default_parameters": {},
   "duration": 74.826951,
   "end_time": "2025-04-13T17:21:20.704402",
   "environment_variables": {},
   "exception": null,
   "input_path": "__notebook__.ipynb",
   "output_path": "__notebook__.ipynb",
   "parameters": {},
   "start_time": "2025-04-13T17:20:05.877451",
   "version": "2.6.0"
  }
 },
 "nbformat": 4,
 "nbformat_minor": 5
}
